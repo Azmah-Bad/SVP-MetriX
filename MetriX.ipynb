{
 "cells": [
  {
   "cell_type": "code",
   "execution_count": null,
   "metadata": {
    "collapsed": true
   },
   "outputs": [],
   "source": [
    "import csv\n",
    "from pprint import pprint\n",
    "from progress.bar import Bar\n",
    "\n",
    "DATASET_FILE = \"dataset\"\n",
    "TILE_SIZE = 0.01"
   ]
  },
  {
   "cell_type": "code",
   "execution_count": null,
   "outputs": [],
   "source": [
    "class Person:\n",
    "    def __init__(self, id):\n",
    "        self.id = id\n",
    "        self.interestPoint = {}\n",
    "        self.rawData = []\n",
    "\n",
    "    def addRawData(self, rawData):\n",
    "        # self.rawData.append(rawData)\n",
    "        tile = int(rawData[\"longitude\"] / TILE_SIZE), int(rawData[\"latitude\"] / TILE_SIZE)\n",
    "        if tile not in self.interestPoint:\n",
    "            self.interestPoint[tile] = 1\n",
    "        else:\n",
    "            self.interestPoint[tile] += 1\n",
    "\n",
    "    def __str__(self):\n",
    "        return f\"user {self.id}\""
   ],
   "metadata": {
    "collapsed": false,
    "pycharm": {
     "name": "#%%\n"
    }
   }
  },
  {
   "cell_type": "code",
   "execution_count": null,
   "outputs": [],
   "source": [
    "def isNewUser(id, users):\n",
    "    for user in users:\n",
    "        if user.id == id:\n",
    "            return False\n",
    "    return True\n"
   ],
   "metadata": {
    "collapsed": false,
    "pycharm": {
     "name": "#%%\n"
    }
   }
  },
  {
   "cell_type": "code",
   "execution_count": null,
   "outputs": [],
   "source": [
    "Users = []\n",
    "\n",
    "with open(DATASET_FILE, 'r', newline=\"\") as file:\n",
    "    reader = csv.reader(file, delimiter=\"\t\")\n",
    "    bar = Bar('Loading', fill='=', suffix='%(percent).1f%% - %(eta)s s', max=34_551_849)\n",
    "    for row in reader:\n",
    "        # is new User\n",
    "        id = int(row[0])\n",
    "        if isNewUser(id, Users, ):\n",
    "            mUser = Person(id)\n",
    "            Users.append(mUser)\n",
    "        else:\n",
    "            mUser = [user for user in Users if user.id == id][0]\n",
    "        mUser.addRawData({\n",
    "            \"timestamp\": int(row[1]),\n",
    "            \"longitude\": float(row[2]),\n",
    "            \"latitude\": float(row[3]),\n",
    "        })\n",
    "        bar.next()\n",
    "    bar.finish()\n",
    "\n",
    "pprint(Users[0].interestPoint)"
   ],
   "metadata": {
    "collapsed": false,
    "pycharm": {
     "name": "#%%\n"
    }
   }
  }
 ],
 "metadata": {
  "kernelspec": {
   "display_name": "Python 3",
   "language": "python",
   "name": "python3"
  },
  "language_info": {
   "codemirror_mode": {
    "name": "ipython",
    "version": 2
   },
   "file_extension": ".py",
   "mimetype": "text/x-python",
   "name": "python",
   "nbconvert_exporter": "python",
   "pygments_lexer": "ipython2",
   "version": "2.7.6"
  }
 },
 "nbformat": 4,
 "nbformat_minor": 0
}