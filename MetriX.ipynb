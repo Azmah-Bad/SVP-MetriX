{
 "cells": [
  {
   "cell_type": "code",
   "execution_count": 7,
   "metadata": {},
   "outputs": [],
   "source": [
    "import csv\n",
    "import numpy as np\n",
    "import matplotlib.pyplot as plt\n",
    "\n",
    "DATASET_FILE = \"dataset\"\n",
    "TILE_SIZE = 0.01\n",
    "THRESHOLD = 20\n",
    "# No of data points used\n",
    "POINTS_COUNT = 500"
   ]
  },
  {
   "cell_type": "code",
   "execution_count": 8,
   "metadata": {
    "pycharm": {
     "name": "#%%\n"
    }
   },
   "outputs": [],
   "source": [
    "class Person:\n",
    "    def __init__(self, id):\n",
    "        self.id = id\n",
    "        self.interestPoint = {}\n",
    "        self.rawData = []\n",
    "\n",
    "    def addRawData(self, rawData):\n",
    "        # self.rawData.append(rawData)\n",
    "        tile = int(rawData[\"longitude\"] / TILE_SIZE), int(rawData[\"latitude\"] / TILE_SIZE)\n",
    "        if tile not in self.interestPoint:\n",
    "            self.interestPoint[tile] = 1\n",
    "        else:\n",
    "            self.interestPoint[tile] += 1\n",
    "\n",
    "    def filterByThreshold(self):\n",
    "        for key in self.interestPoint:\n",
    "            if self.interestPoint[key] < THRESHOLD:\n",
    "                self.interestPoint[key] = 0\n",
    "\n",
    "    def __str__(self):\n",
    "        return f\"user {self.id}\""
   ]
  },
  {
   "cell_type": "code",
   "execution_count": 9,
   "metadata": {
    "pycharm": {
     "name": "#%%\n"
    }
   },
   "outputs": [],
   "source": [
    "def isNewUser(id, users):\n",
    "    for user in users:\n",
    "        if user.id == id:\n",
    "            return False\n",
    "    return True\n"
   ]
  },
  {
   "cell_type": "code",
   "execution_count": 10,
   "metadata": {
    "pycharm": {
     "name": "#%%\n"
    }
   },
   "outputs": [],
   "source": [
    "Users = []\n",
    "\n",
    "with open(DATASET_FILE, 'r', newline=\"\") as file:\n",
    "    reader = csv.reader(file, delimiter=\"\t\")\n",
    "    for row in reader:\n",
    "        # is new User\n",
    "        id = int(row[0])\n",
    "        if isNewUser(id, Users, ):\n",
    "            mUser = Person(id)\n",
    "            Users.append(mUser)\n",
    "        else:\n",
    "            mUser = [user for user in Users if user.id == id][0]\n",
    "        mUser.addRawData({\n",
    "            \"timestamp\": int(row[1]),\n",
    "            \"longitude\": float(row[2]),\n",
    "            \"latitude\": float(row[3]),\n",
    "        })"
   ]
  },
  {
   "cell_type": "code",
   "execution_count": 12,
   "metadata": {},
   "outputs": [],
   "source": [
    "for user in Users:\n",
    "    user.filterByThreshold()"
   ]
  },
  {
   "cell_type": "code",
   "execution_count": 18,
   "outputs": [],
   "source": [
    "totalLength = 0\n",
    "interest_users = []\n",
    "for user in Users:\n",
    "    totalLength += len(user.interestPoint)\n",
    "    interest_users.append(len([count for count in user.interestPoint if count != 0]))"
   ],
   "metadata": {
    "collapsed": false,
    "pycharm": {
     "name": "#%%\n"
    }
   }
  },
  {
   "cell_type": "code",
   "execution_count": 19,
   "outputs": [],
   "source": [
    "USERS_COUNT = len(Users)\n",
    "x = np.sort(interest_users)\n",
    "y = np.arange(USERS_COUNT) / float(USERS_COUNT)"
   ],
   "metadata": {
    "collapsed": false,
    "pycharm": {
     "name": "#%%\n"
    }
   }
  },
  {
   "cell_type": "code",
   "execution_count": 20,
   "outputs": [
    {
     "data": {
      "text/plain": "[<matplotlib.lines.Line2D at 0x130f3deb0>]"
     },
     "execution_count": 20,
     "metadata": {},
     "output_type": "execute_result"
    },
    {
     "data": {
      "text/plain": "<Figure size 432x288 with 1 Axes>",
      "image/png": "[encoded data removed]"
     },
     "metadata": {
      "needs_background": "light"
     },
     "output_type": "display_data"
    }
   ],
   "source": [
    "# plotting\n",
    "plt.xlabel('x-axis')\n",
    "plt.ylabel('y-axis')\n",
    "\n",
    "plt.title('CDF using sorting the data')\n",
    "\n",
    "plt.plot(x, y, marker='x')\n"
   ],
   "metadata": {
    "collapsed": false,
    "pycharm": {
     "name": "#%%\n"
    }
   }
  }
 ],
 "metadata": {
  "kernelspec": {
   "display_name": "Python 3 (ipykernel)",
   "language": "python",
   "name": "python3"
  },
  "language_info": {
   "codemirror_mode": {
    "name": "ipython",
    "version": 3
   },
   "file_extension": ".py",
   "mimetype": "text/x-python",
   "name": "python",
   "nbconvert_exporter": "python",
   "pygments_lexer": "ipython3",
   "version": "3.8.9"
  }
 },
 "nbformat": 4,
 "nbformat_minor": 1
}