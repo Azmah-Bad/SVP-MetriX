{
 "cells": [
  {
   "cell_type": "code",
   "execution_count": 1,
   "metadata": {},
   "outputs": [],
   "source": [
    "import csv\n",
    "from pprint import pprint\n",
    "from progress.bar import Bar\n",
    "\n",
    "DATASET_FILE = \"dataset\"\n",
    "TILE_SIZE = 0.01\n",
    "THRESHOLD = 20"
   ]
  },
  {
   "cell_type": "code",
   "execution_count": 2,
   "metadata": {
    "pycharm": {
     "name": "#%%\n"
    }
   },
   "outputs": [],
   "source": [
    "class Person:\n",
    "    def __init__(self, id):\n",
    "        self.id = id\n",
    "        self.interestPoint = {}\n",
    "        self.rawData = []\n",
    "\n",
    "    def addRawData(self, rawData):\n",
    "        # self.rawData.append(rawData)\n",
    "        tile = int(rawData[\"longitude\"] / TILE_SIZE), int(rawData[\"latitude\"] / TILE_SIZE)\n",
    "        if tile not in self.interestPoint:\n",
    "            self.interestPoint[tile] = 1\n",
    "        else:\n",
    "            self.interestPoint[tile] += 1\n",
    "\n",
    "    def filterByThreshold(self):\n",
    "        for key in self.interestPoint:\n",
    "            if self.interestPoint[key] < THRESHOLD:\n",
    "                del self.interestPoint[key]\n",
    "\n",
    "    def __str__(self):\n",
    "        return f\"user {self.id}\""
   ]
  },
  {
   "cell_type": "code",
   "execution_count": 3,
   "metadata": {
    "pycharm": {
     "name": "#%%\n"
    }
   },
   "outputs": [],
   "source": [
    "def isNewUser(id, users):\n",
    "    for user in users:\n",
    "        if user.id == id:\n",
    "            return False\n",
    "    return True\n"
   ]
  },
  {
   "cell_type": "code",
   "execution_count": null,
   "metadata": {
    "pycharm": {
     "name": "#%%\n",
     "is_executing": true
    }
   },
   "outputs": [],
   "source": [
    "Users = []\n",
    "\n",
    "with open(DATASET_FILE, 'r', newline=\"\") as file:\n",
    "    reader = csv.reader(file, delimiter=\"\t\")\n",
    "    for row in reader:\n",
    "        # is new User\n",
    "        id = int(row[0])\n",
    "        if isNewUser(id, Users, ):\n",
    "            mUser = Person(id)\n",
    "            Users.append(mUser)\n",
    "        else:\n",
    "            mUser = [user for user in Users if user.id == id][0]\n",
    "        mUser.addRawData({\n",
    "            \"timestamp\": int(row[1]),\n",
    "            \"longitude\": float(row[2]),\n",
    "            \"latitude\": float(row[3]),\n",
    "        })"
   ]
  },
  {
   "cell_type": "code",
   "execution_count": null,
   "metadata": {
    "pycharm": {
     "is_executing": true
    }
   },
   "outputs": [],
   "source": [
    "for user in Users:\n",
    "    user.filterByThreshold()\n"
   ]
  }
 ],
 "metadata": {
  "kernelspec": {
   "display_name": "Python 3 (ipykernel)",
   "language": "python",
   "name": "python3"
  },
  "language_info": {
   "codemirror_mode": {
    "name": "ipython",
    "version": 3
   },
   "file_extension": ".py",
   "mimetype": "text/x-python",
   "name": "python",
   "nbconvert_exporter": "python",
   "pygments_lexer": "ipython3",
   "version": "3.8.9"
  }
 },
 "nbformat": 4,
 "nbformat_minor": 1
}